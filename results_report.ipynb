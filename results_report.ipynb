{
 "cells": [
  {
   "cell_type": "code",
   "execution_count": 9,
   "metadata": {},
   "outputs": [],
   "source": [
    "import numpy as np\n",
    "import sys\n",
    "import matplotlib.pyplot as plt\n",
    "from scipy.signal import argrelextrema\n",
    "\n",
    "import simulate as sim\n",
    "import plotting as plot\n",
    "import observables as obs"
   ]
  },
  {
   "cell_type": "markdown",
   "metadata": {},
   "source": [
    "# Results for the final paper\n",
    "This file will contain things such as temperature or density loops so as to simulate and plot observables that give information about Argon's phase transitions"
   ]
  },
  {
   "cell_type": "markdown",
   "metadata": {},
   "source": [
    "## Temperature loop for the specific heat\n",
    "You may change the temperature range by changing the parameters:\n",
    "- temp_init\n",
    "- temp_final\n",
    "- temp_step\n",
    "\n",
    "And you should also set the other simulation parameters"
   ]
  },
  {
   "cell_type": "code",
   "execution_count": 11,
   "metadata": {},
   "outputs": [],
   "source": [
    "# Input parameters\n",
    "particle_num = 4*(5**3) \n",
    "dim = 3 \n",
    "lattice_const = 1.5471 # [\\sigma]\n",
    "temperature = 5 # [\\epsilon/Kb]\n",
    "temperature_error = 0.1 # error in the temperature when rescaling [\\epsilon/KB]\n",
    "rescale_time = 0.1 # interval between rescalings\n",
    "\n",
    "run_time = 0.8 # sqrt(mass*\\sigma^2/\\epsilon)\n",
    "num_tsteps = 500 \n",
    "algorithm_method = \"verlet\" # options: \"verlet\" or \"euler\""
   ]
  },
  {
   "cell_type": "code",
   "execution_count": 7,
   "metadata": {},
   "outputs": [
    {
     "name": "stdout",
     "output_type": "stream",
     "text": [
      "Computing specific heat for temperature =  1.0\n",
      "time step :     189/500 | temperature=0.94792/1.00000 (0.08738)\n",
      "time step :     500/500\n"
     ]
    },
    {
     "name": "stderr",
     "output_type": "stream",
     "text": [
      "C:\\Users\\alvar\\AppData\\Roaming\\Python\\Python36\\site-packages\\scipy\\optimize\\minpack.py:829: OptimizeWarning: Covariance of the parameters could not be estimated\n",
      "  category=OptimizeWarning)\n",
      "C:\\Users\\alvar\\Documents\\TUDelft\\2. Computational Physics\\Project-1_abermejillo_dbedialaunetar_mserraperalta\\observables.py:277: RuntimeWarning: overflow encountered in exp\n",
      "  function = lambda x,a,b,c: b-c*np.exp(-a*x) # function for fitting the error\n"
     ]
    },
    {
     "name": "stdout",
     "output_type": "stream",
     "text": [
      "Computing specific heat for temperature =  1.2\n",
      "time step :     252/500 | temperature=1.18358/1.20000 (0.05098)\n",
      "time step :     500/500\n",
      "Computing specific heat for temperature =  1.4\n",
      "time step :     252/500 | temperature=1.45736/1.40000 (0.06816)\n",
      "time step :     500/500\n",
      "Computing specific heat for temperature =  1.6\n",
      "time step :     252/500 | temperature=1.55399/1.60000 (0.04275)\n",
      "time step :     500/500\n",
      "Computing specific heat for temperature =  1.8\n",
      "time step :     252/500 | temperature=1.76774/1.80000 (0.03629)\n",
      "time step :     500/500\n",
      "Computing specific heat for temperature =  2.0\n",
      "time step :     315/500 | temperature=2.02929/2.00000 (0.02644)\n",
      "time step :     500/500\n"
     ]
    }
   ],
   "source": [
    "\n",
    "temp_init = 1\n",
    "temp_final = 2\n",
    "temp_step = 0.2\n",
    "\n",
    "temp_var = []\n",
    "c_variation = []\n",
    "c_error = []\n",
    "\n",
    "for temperature in np.linspace(temp_init, temp_final, int((temp_final-temp_init)/temp_step)+1):\n",
    "    print(\"Computing specific heat for temperature = \", temperature)\n",
    "    try:\n",
    "        init_vel = sim.init_velocity(particle_num, temperature)\n",
    "        init_pos, box_length = sim.fcc_lattice(particle_num, lattice_const)\n",
    "        eq_reached = sim.get_equilibrium(init_pos, init_vel, num_tsteps, run_time/num_tsteps, box_length, temperature, \"output_eq.csv\", method=algorithm_method, resc_thr=[temperature_error, rescale_time])\n",
    "        eq_pos, eq_vel = sim.load_final_data(\"output_eq.csv\")\n",
    "        temperature_eq = sim.temperature(eq_vel)\n",
    "        sim.simulate(eq_pos, eq_vel, num_tsteps, run_time/num_tsteps, box_length, \"output.csv\", method=algorithm_method)\n",
    "        c, Ac_autocorr, Ac_datablock = obs.specific_heat_error(\"output.csv\")\n",
    "        c_variation.append(c)\n",
    "        c_error.append(Ac_autocorr)\n",
    "        temp_var.append(temperature_eq)\n",
    "    except:\n",
    "        print(\"One step was skipped\")\n",
    "    \n"
   ]
  },
  {
   "cell_type": "code",
   "execution_count": 9,
   "metadata": {},
   "outputs": [
    {
     "data": {
      "image/png": "[encoded data removed]",
      "text/plain": [
       "<Figure size 432x288 with 1 Axes>"
      ]
     },
     "metadata": {},
     "output_type": "display_data"
    }
   ],
   "source": [
    "fig = plt.figure()\n",
    "ax = fig.add_subplot(111)\n",
    "ax.set_xlabel(\"temperature $[\\epsilon/K_B]$\")\n",
    "ax.set_ylabel(\"$c_v$ $[K_B]$\")\n",
    "plt.errorbar(temp_var, c_variation, yerr = c_error ,marker = \".\")\n",
    "plt.show()"
   ]
  },
  {
   "cell_type": "markdown",
   "metadata": {},
   "source": [
    "## Serveral pair correlation functions\n",
    "Here we compute three pair correlation functions corresponding to solid liquid and gaseous phases. First you may set the simulation parameters and in each of the cases the required temperature:"
   ]
  },
  {
   "cell_type": "code",
   "execution_count": null,
   "metadata": {},
   "outputs": [],
   "source": [
    "# Input parameters\n",
    "particle_num = 4*(5**3) \n",
    "dim = 3 \n",
    "lattice_const = 1.5471 # [\\sigma]\n",
    "rescale_time = 0.1 # interval between rescalings\n",
    "\n",
    "run_time = 0.8 # sqrt(mass*\\sigma^2/\\epsilon)\n",
    "num_tsteps = 500 \n",
    "algorithm_method = \"verlet\" # options: \"verlet\" or \"euler\""
   ]
  },
  {
   "cell_type": "code",
   "execution_count": 11,
   "metadata": {},
   "outputs": [
    {
     "name": "stdout",
     "output_type": "stream",
     "text": [
      "time step :     441/500 | temperature=0.10124/0.10000 (0.06614)\n",
      "time step :     500/500\n",
      "CALCULATING PAIR CORRELATION FUNCTION 1...\n",
      "Compute error (data blocking): 145/300"
     ]
    },
    {
     "name": "stderr",
     "output_type": "stream",
     "text": [
      "C:\\Users\\alvar\\Documents\\TUDelft\\2. Computational Physics\\Project-1_abermejillo_dbedialaunetar_mserraperalta\\observables.py:277: RuntimeWarning: overflow encountered in exp\n",
      "  function = lambda x,a,b,c: b-c*np.exp(-a*x) # function for fitting the error\n",
      "C:\\Users\\alvar\\Documents\\TUDelft\\2. Computational Physics\\Project-1_abermejillo_dbedialaunetar_mserraperalta\\observables.py:277: RuntimeWarning: overflow encountered in multiply\n",
      "  function = lambda x,a,b,c: b-c*np.exp(-a*x) # function for fitting the error\n"
     ]
    },
    {
     "name": "stdout",
     "output_type": "stream",
     "text": [
      "Compute error (autocorrelation): 112/300"
     ]
    },
    {
     "name": "stderr",
     "output_type": "stream",
     "text": [
      "C:\\Users\\alvar\\Documents\\TUDelft\\2. Computational Physics\\Project-1_abermejillo_dbedialaunetar_mserraperalta\\observables.py:213: RuntimeWarning: invalid value encountered in double_scalars\n",
      "  (np.sqrt((N-t)*(data[:n]**2).sum() - (data[:n].sum())**2) * np.sqrt((N-t)*(data[t:n+t]**2).sum() - (data[t:n+t].sum())**2))\n"
     ]
    },
    {
     "name": "stdout",
     "output_type": "stream",
     "text": [
      "Compute error (autocorrelation): 300/300\n"
     ]
    }
   ],
   "source": [
    "temperature = 0.1\n",
    "temperature_error = 0.01 \n",
    "init_pos, box_length = sim.fcc_lattice(particle_num, lattice_const)\n",
    "eq_reached = sim.get_equilibrium(init_pos, init_vel, num_tsteps, run_time/num_tsteps, box_length, temperature, \"output_eq.csv\", method=algorithm_method, resc_thr=[temperature_error, rescale_time])\n",
    "eq_pos, eq_vel = sim.load_final_data(\"output_eq.csv\")\n",
    "temperature_eq = sim.temperature(eq_vel)\n",
    "sim.simulate(eq_pos, eq_vel, num_tsteps, run_time/num_tsteps, box_length, \"output.csv\", method=algorithm_method)\n",
    "print(\"CALCULATING PAIR CORRELATION FUNCTION 1...\")\n",
    "r1, g1, eg1, eg11 = obs.pair_correlation_function_error(\"output.csv\", 0.01, box_length, r_max=3)\n",
    "positions = np.where(eg1>0.5)\n",
    "eg1[positions] = 0\n",
    "g1 = g1/g1.max()\n",
    "eg1 = eg1/g1.max()"
   ]
  },
  {
   "cell_type": "code",
   "execution_count": 17,
   "metadata": {},
   "outputs": [
    {
     "name": "stdout",
     "output_type": "stream",
     "text": [
      "time step :     315/500 | temperature=9.71936/10.00000 (0.03835)\n",
      "time step :     500/500\n",
      "CALCULATING PAIR CORRELATION FUNCTION 2...\n",
      "Compute error (data blocking): 91/300"
     ]
    },
    {
     "name": "stderr",
     "output_type": "stream",
     "text": [
      "C:\\Users\\alvar\\AppData\\Roaming\\Python\\Python36\\site-packages\\scipy\\optimize\\minpack.py:829: OptimizeWarning: Covariance of the parameters could not be estimated\n",
      "  category=OptimizeWarning)\n",
      "C:\\Users\\alvar\\Documents\\TUDelft\\2. Computational Physics\\Project-1_abermejillo_dbedialaunetar_mserraperalta\\observables.py:277: RuntimeWarning: overflow encountered in exp\n",
      "  function = lambda x,a,b,c: b-c*np.exp(-a*x) # function for fitting the error\n",
      "C:\\Users\\alvar\\Documents\\TUDelft\\2. Computational Physics\\Project-1_abermejillo_dbedialaunetar_mserraperalta\\observables.py:277: RuntimeWarning: overflow encountered in multiply\n",
      "  function = lambda x,a,b,c: b-c*np.exp(-a*x) # function for fitting the error\n"
     ]
    },
    {
     "name": "stdout",
     "output_type": "stream",
     "text": [
      "Compute error (autocorrelation): 86/300"
     ]
    },
    {
     "name": "stderr",
     "output_type": "stream",
     "text": [
      "C:\\Users\\alvar\\Documents\\TUDelft\\2. Computational Physics\\Project-1_abermejillo_dbedialaunetar_mserraperalta\\observables.py:213: RuntimeWarning: invalid value encountered in double_scalars\n",
      "  (np.sqrt((N-t)*(data[:n]**2).sum() - (data[:n].sum())**2) * np.sqrt((N-t)*(data[t:n+t]**2).sum() - (data[t:n+t].sum())**2))\n"
     ]
    },
    {
     "name": "stdout",
     "output_type": "stream",
     "text": [
      "Compute error (autocorrelation): 300/300\n"
     ]
    }
   ],
   "source": [
    "temperature = 10\n",
    "temperature_error=0.5\n",
    "init_pos, box_length = sim.fcc_lattice(particle_num, lattice_const)\n",
    "eq_reached = sim.get_equilibrium(init_pos, init_vel, num_tsteps, run_time/num_tsteps, box_length, temperature, \"output_eq.csv\", method=algorithm_method, resc_thr=[temperature_error, rescale_time])\n",
    "eq_pos, eq_vel = sim.load_final_data(\"output_eq.csv\")\n",
    "temperature_eq = sim.temperature(eq_vel)\n",
    "sim.simulate(eq_pos, eq_vel, num_tsteps, run_time/num_tsteps, box_length, \"output.csv\", method=algorithm_method)\n",
    "print(\"CALCULATING PAIR CORRELATION FUNCTION 2...\")\n",
    "r2, g2, eg2,eg22 = obs.pair_correlation_function_error(\"output.csv\", 0.01, box_length, r_max=3)\n",
    "positions = np.where(eg2>0.5)\n",
    "eg2[positions] = 0\n",
    "g2 = g2/g2.max()\n",
    "eg2 = eg2/g2.max()"
   ]
  },
  {
   "cell_type": "code",
   "execution_count": 18,
   "metadata": {},
   "outputs": [
    {
     "name": "stdout",
     "output_type": "stream",
     "text": [
      "time step :     315/500 | temperature=100.53244/100.00000(0.00574)\n",
      "time step :     500/500\n",
      "CALCULATING PAIR CORRELATION FUNCTION 3...\n",
      "Compute error (data blocking): 94/300"
     ]
    },
    {
     "name": "stderr",
     "output_type": "stream",
     "text": [
      "C:\\Users\\alvar\\AppData\\Roaming\\Python\\Python36\\site-packages\\scipy\\optimize\\minpack.py:829: OptimizeWarning: Covariance of the parameters could not be estimated\n",
      "  category=OptimizeWarning)\n",
      "C:\\Users\\alvar\\Documents\\TUDelft\\2. Computational Physics\\Project-1_abermejillo_dbedialaunetar_mserraperalta\\observables.py:277: RuntimeWarning: overflow encountered in exp\n",
      "  function = lambda x,a,b,c: b-c*np.exp(-a*x) # function for fitting the error\n"
     ]
    },
    {
     "name": "stdout",
     "output_type": "stream",
     "text": [
      "\r",
      "Compute error (data blocking): 95/300\r",
      "Compute error (data blocking): 96/300\r",
      "Compute error (data blocking): 97/300\r",
      "Compute error (data blocking): 98/300\r",
      "Compute error (data blocking): 99/300\r",
      "Compute error (data blocking): 100/300\r",
      "Compute error (data blocking): 101/300\r",
      "Compute error (data blocking): 102/300\r",
      "Compute error (data blocking): 103/300\r",
      "Compute error (data blocking): 104/300\r",
      "Compute error (data blocking): 105/300\r",
      "Compute error (data blocking): 106/300\r",
      "Compute error (data blocking): 107/300\r",
      "Compute error (data blocking): 108/300\r",
      "Compute error (data blocking): 109/300\r",
      "Compute error (data blocking): 110/300\r",
      "Compute error (data blocking): 111/300\r",
      "Compute error (data blocking): 112/300\r",
      "Compute error (data blocking): 113/300\r",
      "Compute error (data blocking): 114/300\r",
      "Compute error (data blocking): 115/300\r",
      "Compute error (data blocking): 116/300\r",
      "Compute error (data blocking): 117/300\r",
      "Compute error (data blocking): 118/300\r",
      "Compute error (data blocking): 119/300\r",
      "Compute error (data blocking): 120/300\r",
      "Compute error (data blocking): 121/300\r",
      "Compute error (data blocking): 122/300\r",
      "Compute error (data blocking): 123/300\r",
      "Compute error (data blocking): 124/300\r",
      "Compute error (data blocking): 125/300\r",
      "Compute error (data blocking): 126/300\r",
      "Compute error (data blocking): 127/300\r",
      "Compute error (data blocking): 128/300\r",
      "Compute error (data blocking): 129/300\r",
      "Compute error (data blocking): 130/300\r",
      "Compute error (data blocking): 131/300\r",
      "Compute error (data blocking): 132/300\r",
      "Compute error (data blocking): 133/300\r",
      "Compute error (data blocking): 134/300\r",
      "Compute error (data blocking): 135/300\r",
      "Compute error (data blocking): 136/300\r",
      "Compute error (data blocking): 137/300\r",
      "Compute error (data blocking): 138/300\r",
      "Compute error (data blocking): 139/300\r",
      "Compute error (data blocking): 140/300\r",
      "Compute error (data blocking): 141/300\r",
      "Compute error (data blocking): 142/300\r",
      "Compute error (data blocking): 143/300"
     ]
    },
    {
     "name": "stderr",
     "output_type": "stream",
     "text": [
      "C:\\Users\\alvar\\Documents\\TUDelft\\2. Computational Physics\\Project-1_abermejillo_dbedialaunetar_mserraperalta\\observables.py:277: RuntimeWarning: overflow encountered in multiply\n",
      "  function = lambda x,a,b,c: b-c*np.exp(-a*x) # function for fitting the error\n"
     ]
    },
    {
     "name": "stdout",
     "output_type": "stream",
     "text": [
      "Compute error (autocorrelation): 64/300"
     ]
    },
    {
     "name": "stderr",
     "output_type": "stream",
     "text": [
      "C:\\Users\\alvar\\Documents\\TUDelft\\2. Computational Physics\\Project-1_abermejillo_dbedialaunetar_mserraperalta\\observables.py:213: RuntimeWarning: invalid value encountered in double_scalars\n",
      "  (np.sqrt((N-t)*(data[:n]**2).sum() - (data[:n].sum())**2) * np.sqrt((N-t)*(data[t:n+t]**2).sum() - (data[t:n+t].sum())**2))\n"
     ]
    },
    {
     "name": "stdout",
     "output_type": "stream",
     "text": [
      "Compute error (autocorrelation): 300/300\n"
     ]
    }
   ],
   "source": [
    "temperature = 100\n",
    "temperature_error = 1\n",
    "init_pos, box_length = sim.fcc_lattice(particle_num, lattice_const)\n",
    "eq_reached = sim.get_equilibrium(init_pos, init_vel, num_tsteps, run_time/num_tsteps, box_length, temperature, \"output_eq.csv\", method=algorithm_method, resc_thr=[temperature_error, rescale_time])\n",
    "eq_pos, eq_vel = sim.load_final_data(\"output_eq.csv\")\n",
    "temperature_eq = sim.temperature(eq_vel)\n",
    "sim.simulate(eq_pos, eq_vel, num_tsteps, run_time/num_tsteps, box_length, \"output.csv\", method=algorithm_method)\n",
    "print(\"CALCULATING PAIR CORRELATION FUNCTION 3...\")\n",
    "r3, g3, eg3, eg33 = obs.pair_correlation_function_error(\"output.csv\", 0.01, box_length, r_max=3)\n",
    "positions = np.where(eg3>0.5)\n",
    "eg3[positions] = 0\n",
    "g3 = g3/g3.max()\n",
    "eg3 = eg3/g3.max()"
   ]
  },
  {
   "cell_type": "markdown",
   "metadata": {},
   "source": [
    "Now we just plot them one after the other:"
   ]
  },
  {
   "cell_type": "code",
   "execution_count": 49,
   "metadata": {},
   "outputs": [
    {
     "data": {
      "image/png": "[encoded data removed]",
      "text/plain": [
       "<Figure size 504x432 with 3 Axes>"
      ]
     },
     "metadata": {},
     "output_type": "display_data"
    }
   ],
   "source": [
    "plt.rcParams[\"figure.figsize\"] = [7.00, 6.00]\n",
    "plt.rcParams[\"figure.autolayout\"] = True\n",
    "fig, (ax1, ax2, ax3) = plt.subplots(3, sharex=True)\n",
    "fig.set_tight_layout(False)\n",
    "ax3.set_xlabel(\"$r/\\sigma$\")\n",
    "ax3.set_ylabel(\"$g(r)$\")\n",
    "ax2.set_ylabel(\"$g(r)$\")\n",
    "ax1.set_ylabel(\"$g(r)$\")\n",
    "\n",
    "ax1.errorbar(r1, g1, yerr=eg1, color = \"dodgerblue\", ecolor=\"lightgray\", label = \"T=0.1\")\n",
    "ax1.scatter(r1[positions],g1[positions], marker='o',color=\"white\")\n",
    "\n",
    "ax2.errorbar(r2, g2, yerr=eg2, color = \"goldenrod\",ecolor=\"lightgray\", label = \"T = 10\")\n",
    "\n",
    "ax3.errorbar(r3, g3, yerr=eg3, color = \"orangered\", ecolor=\"lightgray\", label=\"T=100\")\n",
    "\n",
    "ax1.legend()\n",
    "ax2.legend()\n",
    "ax3.legend()\n",
    "plt.savefig(\"results/W5_pair_correlation_functions_svg.svg\")\n",
    "plt.show()"
   ]
  },
  {
   "cell_type": "markdown",
   "metadata": {},
   "source": [
    "# Timing of the program including errors \n",
    "Here we will analyse a bit the efficiency of the code, now that we have observables and its errors. First, we analyse a loop where we compute the specific heat at different temperatures."
   ]
  },
  {
   "cell_type": "code",
   "execution_count": 27,
   "metadata": {},
   "outputs": [],
   "source": [
    "def temperature_loop():\n",
    "    temp_init = 1\n",
    "    temp_final = 2\n",
    "    temp_step = 0.2\n",
    "\n",
    "    temp_var = []\n",
    "    c_variation = []\n",
    "    c_error = []\n",
    "\n",
    "    for temperature in np.linspace(temp_init, temp_final, int((temp_final-temp_init)/temp_step)+1):\n",
    "        print(\"Computing specific heat for temperature = \", temperature)\n",
    "        try:\n",
    "            init_vel = sim.init_velocity(particle_num, temperature)\n",
    "            init_pos, box_length = sim.fcc_lattice(particle_num, lattice_const)\n",
    "            eq_reached = sim.get_equilibrium(init_pos, init_vel, num_tsteps, run_time/num_tsteps, box_length, temperature, \"output_eq.csv\", method=algorithm_method, resc_thr=[temperature_error, rescale_time])\n",
    "            eq_pos, eq_vel = sim.load_final_data(\"output_eq.csv\")\n",
    "            temperature_eq = sim.temperature(eq_vel)\n",
    "            sim.simulate(eq_pos, eq_vel, num_tsteps, run_time/num_tsteps, box_length, \"output.csv\", method=algorithm_method)\n",
    "            c, Ac_autocorr, Ac_datablock = obs.specific_heat_error(\"output.csv\")\n",
    "            c_variation.append(c)\n",
    "            c_error.append(Ac_autocorr)\n",
    "            temp_var.append(temperature_eq)\n",
    "        except:\n",
    "            print(\"One step was skipped\")\n",
    "    return temp_var,c_variation,c_error"
   ]
  },
  {
   "cell_type": "code",
   "execution_count": 5,
   "metadata": {},
   "outputs": [],
   "source": [
    "%load_ext line_profiler"
   ]
  },
  {
   "cell_type": "code",
   "execution_count": 28,
   "metadata": {},
   "outputs": [
    {
     "name": "stdout",
     "output_type": "stream",
     "text": [
      "Computing specific heat for temperature =  1.0\n",
      "time step :     252/500 | temperature=0.98088/1.00000 (0.07235)\n",
      "time step :     500/500\n"
     ]
    },
    {
     "name": "stderr",
     "output_type": "stream",
     "text": [
      "C:\\Users\\alvar\\AppData\\Roaming\\Python\\Python36\\site-packages\\scipy\\optimize\\minpack.py:829: OptimizeWarning: Covariance of the parameters could not be estimated\n",
      "  category=OptimizeWarning)\n",
      "C:\\Users\\alvar\\Documents\\TUDelft\\2. Computational Physics\\Project-1_abermejillo_dbedialaunetar_mserraperalta\\observables.py:277: RuntimeWarning: overflow encountered in exp\n",
      "  function = lambda x,a,b,c: b-c*np.exp(-a*x) # function for fitting the error\n"
     ]
    },
    {
     "name": "stdout",
     "output_type": "stream",
     "text": [
      "Computing specific heat for temperature =  1.2\n",
      "time step :     252/500 | temperature=1.12170/1.20000 (0.05708)\n",
      "time step :     500/500\n",
      "Computing specific heat for temperature =  1.4\n",
      "time step :     252/500 | temperature=1.36840/1.40000 (0.04893)\n",
      "time step :     500/500\n",
      "Computing specific heat for temperature =  1.6\n",
      "time step :     252/500 | temperature=1.52609/1.60000 (0.03998)\n",
      "time step :     500/500\n",
      "Computing specific heat for temperature =  1.8\n",
      "time step :     252/500 | temperature=1.73773/1.80000 (0.03027)\n",
      "time step :     500/500\n",
      "Computing specific heat for temperature =  2.0\n",
      "time step :     315/500 | temperature=2.01215/2.00000 (0.03454)\n",
      "time step :     500/500\n"
     ]
    },
    {
     "name": "stderr",
     "output_type": "stream",
     "text": [
      "C:\\Users\\alvar\\Documents\\TUDelft\\2. Computational Physics\\Project-1_abermejillo_dbedialaunetar_mserraperalta\\observables.py:277: RuntimeWarning: overflow encountered in multiply\n",
      "  function = lambda x,a,b,c: b-c*np.exp(-a*x) # function for fitting the error\n"
     ]
    }
   ],
   "source": [
    "%lprun -f temperature_loop temperature_loop()"
   ]
  },
  {
   "cell_type": "markdown",
   "metadata": {},
   "source": [
    "### Conclusions\n",
    "\n",
    "As expected, in this function most of the time is spent in the functions sim.get_equilibrium and sim.simulate. This simulation in particular took 350 seconds, and the distibution looks like this:\n",
    "- simulate: 66.1%\n",
    "- get_equilibrium: 30.7%\n",
    "- specific_heat_error: 3.1%\n",
    "- rest: 0.1%\n",
    "\n",
    "The simulation involves 500 particles, a duration of 0.8 with 500 timesteps. We take them to equilibrium, time evolve them and compute the specific heat 5 times. Let's say we wanted to see the evolution of the specific heat with temperature in the three phases, we might want to make 10 measurements in each one, and that would take 35 minutes, or ~12 minutes per analysed phase. We regard this as plausible, though of course optimizing simulate would reduce the time cost of it. \n",
    "\n",
    "An option to reduce this is compute the specific heat while doing the simulation, instead of afterwards. We could do so by placing some booleans in the simulate, that would compute some parameters calling the specific heat function inside the simulate, where we already computed some of the quantities we know. However, as computing the specific heat only requires 3% of the time, we will leave it as it is.\n",
    "\n",
    "Another thing we could try though is to optimize the simulate function itself. That function spends most of the time computing the force acting on each particle. Thus, we tried reducing that cost by neglecting interaction between particles more than a certain distance away from each other. You still have to compute all the distances, then extract the indices of those that are far away... In the end it's not a lengthy operation due to its complexity, but due to the size of the operands, which we cannot reduce.\n",
    "\n",
    "__Now__ we do the same for the pair correlation function."
   ]
  },
  {
   "cell_type": "code",
   "execution_count": 29,
   "metadata": {},
   "outputs": [],
   "source": [
    "def compute_a_couple_pair_correlation():\n",
    "    try:\n",
    "        particle_num = 4*(5**3) \n",
    "        dim = 3 \n",
    "        lattice_const = 1.5471 # [\\sigma]\n",
    "        rescale_time = 0.1 # interval between rescalings\n",
    "\n",
    "        run_time = 0.8 # sqrt(mass*\\sigma^2/\\epsilon)\n",
    "        num_tsteps = 500 \n",
    "        algorithm_method = \"verlet\" # options: \"verlet\" or \"euler\"\n",
    "        temperature = 0.1\n",
    "        temperature_error = 0.01 \n",
    "        init_vel = sim.init_velocity(particle_num, temperature)\n",
    "        init_pos, box_length = sim.fcc_lattice(particle_num, lattice_const)\n",
    "        eq_reached = sim.get_equilibrium(init_pos, init_vel, num_tsteps, run_time/num_tsteps, box_length, temperature, \"output_eq.csv\", method=algorithm_method, resc_thr=[temperature_error, rescale_time])\n",
    "        eq_pos, eq_vel = sim.load_final_data(\"output_eq.csv\")\n",
    "        temperature_eq = sim.temperature(eq_vel)\n",
    "        sim.simulate(eq_pos, eq_vel, num_tsteps, run_time/num_tsteps, box_length, \"output.csv\", method=algorithm_method)\n",
    "        print(\"CALCULATING PAIR CORRELATION FUNCTION 1...\")\n",
    "        r1, g1, eg1, eg11 = obs.pair_correlation_function_error(\"output.csv\", 0.01, box_length, r_max=3)\n",
    "        positions = np.where(eg1>0.5)\n",
    "        eg1[positions] = 0\n",
    "        g1 = g1/g1.max()\n",
    "        eg1 = eg1/g1.max()\n",
    "    except:\n",
    "        pass\n",
    "    try:\n",
    "        temperature = 100\n",
    "        temperature_error = 1\n",
    "        init_vel = sim.init_velocity(particle_num, temperature)\n",
    "        init_pos, box_length = sim.fcc_lattice(particle_num, lattice_const)\n",
    "        eq_reached = sim.get_equilibrium(init_pos, init_vel, num_tsteps, run_time/num_tsteps, box_length, temperature, \"output_eq.csv\", method=algorithm_method, resc_thr=[temperature_error, rescale_time])\n",
    "        eq_pos, eq_vel = sim.load_final_data(\"output_eq.csv\")\n",
    "        temperature_eq = sim.temperature(eq_vel)\n",
    "        sim.simulate(eq_pos, eq_vel, num_tsteps, run_time/num_tsteps, box_length, \"output.csv\", method=algorithm_method)\n",
    "        print(\"CALCULATING PAIR CORRELATION FUNCTION 3...\")\n",
    "        r3, g3, eg3, eg33 = obs.pair_correlation_function_error(\"output.csv\", 0.01, box_length, r_max=3)\n",
    "        positions = np.where(eg3>0.5)\n",
    "        eg3[positions] = 0\n",
    "        g3 = g3/g3.max()\n",
    "        eg3 = eg3/g3.max()\n",
    "    except:\n",
    "        pass\n",
    "    return "
   ]
  },
  {
   "cell_type": "code",
   "execution_count": 30,
   "metadata": {},
   "outputs": [
    {
     "name": "stdout",
     "output_type": "stream",
     "text": [
      "time step :     441/500 | temperature=0.10867/0.10000 (0.09128)\n",
      "time step :     500/500\n",
      "CALCULATING PAIR CORRELATION FUNCTION 1...\n",
      "Compute error (data blocking): 126/300"
     ]
    },
    {
     "name": "stderr",
     "output_type": "stream",
     "text": [
      "C:\\Users\\alvar\\Documents\\TUDelft\\2. Computational Physics\\Project-1_abermejillo_dbedialaunetar_mserraperalta\\observables.py:277: RuntimeWarning: overflow encountered in exp\n",
      "  function = lambda x,a,b,c: b-c*np.exp(-a*x) # function for fitting the error\n",
      "C:\\Users\\alvar\\Documents\\TUDelft\\2. Computational Physics\\Project-1_abermejillo_dbedialaunetar_mserraperalta\\observables.py:277: RuntimeWarning: overflow encountered in multiply\n",
      "  function = lambda x,a,b,c: b-c*np.exp(-a*x) # function for fitting the error\n"
     ]
    },
    {
     "name": "stdout",
     "output_type": "stream",
     "text": [
      "Compute error (autocorrelation): 141/300"
     ]
    },
    {
     "name": "stderr",
     "output_type": "stream",
     "text": [
      "C:\\Users\\alvar\\Documents\\TUDelft\\2. Computational Physics\\Project-1_abermejillo_dbedialaunetar_mserraperalta\\observables.py:213: RuntimeWarning: invalid value encountered in double_scalars\n",
      "  (np.sqrt((N-t)*(data[:n]**2).sum() - (data[:n].sum())**2) * np.sqrt((N-t)*(data[t:n+t]**2).sum() - (data[t:n+t].sum())**2))\n"
     ]
    },
    {
     "name": "stdout",
     "output_type": "stream",
     "text": [
      "Compute error (autocorrelation): 300/300\n",
      "time step :     378/500 | temperature=99.89987/100.000000 (0.00618)\n",
      "time step :     500/500\n",
      "CALCULATING PAIR CORRELATION FUNCTION 3...\n",
      "Compute error (data blocking): 94/300"
     ]
    },
    {
     "name": "stderr",
     "output_type": "stream",
     "text": [
      "C:\\Users\\alvar\\AppData\\Roaming\\Python\\Python36\\site-packages\\scipy\\optimize\\minpack.py:829: OptimizeWarning: Covariance of the parameters could not be estimated\n",
      "  category=OptimizeWarning)\n"
     ]
    },
    {
     "name": "stdout",
     "output_type": "stream",
     "text": [
      "Compute error (autocorrelation): 300/300\n"
     ]
    }
   ],
   "source": [
    "%lprun -f compute_a_couple_pair_correlation compute_a_couple_pair_correlation()"
   ]
  },
  {
   "cell_type": "markdown",
   "metadata": {},
   "source": [
    "### Conclusions\n",
    "In this case, it was the pair_correlation_function_error the one that took the most time. This simulation took 365 seconds and the distribution was approximately:\n",
    "- simulate: 20%\n",
    "- get_equilibrium: 20%\n",
    "- pair_correlation_function: 60%\n",
    "- rest: negligible\n",
    "\n",
    "So if we where to optimize anything in getting the pair correlation functions it would be the observable funcition itself. However, we are only running this code three times, on for each phase of Argon. So it's not worth our time to do so. "
   ]
  },
  {
   "cell_type": "code",
   "execution_count": null,
   "metadata": {},
   "outputs": [],
   "source": []
  }
 ],
 "metadata": {
  "kernelspec": {
   "display_name": "Python 3",
   "language": "python",
   "name": "python3"
  },
  "language_info": {
   "codemirror_mode": {
    "name": "ipython",
    "version": 3
   },
   "file_extension": ".py",
   "mimetype": "text/x-python",
   "name": "python",
   "nbconvert_exporter": "python",
   "pygments_lexer": "ipython3",
   "version": "3.6.6"
  },
  "latex_envs": {
   "LaTeX_envs_menu_present": true,
   "autoclose": false,
   "autocomplete": true,
   "bibliofile": "biblio.bib",
   "cite_by": "apalike",
   "current_citInitial": 1,
   "eqLabelWithNumbers": true,
   "eqNumInitial": 1,
   "hotkeys": {
    "equation": "Ctrl-E",
    "itemize": "Ctrl-I"
   },
   "labels_anchors": false,
   "latex_user_defs": false,
   "report_style_numbering": false,
   "user_envs_cfg": false
  }
 },
 "nbformat": 4,
 "nbformat_minor": 2
}
