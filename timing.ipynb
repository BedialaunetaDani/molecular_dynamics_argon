{
 "cells": [
  {
   "cell_type": "code",
   "execution_count": 1,
   "id": "c4a67507",
   "metadata": {},
   "outputs": [],
   "source": [
    "import simulate as sim\n",
    "import numpy as np"
   ]
  },
  {
   "cell_type": "markdown",
   "id": "01f64294",
   "metadata": {},
   "source": [
    "# Timing of the functions involved in a Verlet step\n",
    "\n",
    "We test and compare the performance of the functions involved in a Verlet step in order to know which one is the bottleneck of the simulation. \n",
    "\n",
    "The two functions that consume more time are \n",
    "1. `sim.lj_force` $\\approx$ 4.3 ms (for $N=200$)\n",
    "2. `sim.atomic_distances` $\\approx$ 3.5 ms (for $N=200$)\n",
    "\n",
    "while the rest are execture in less than 7 µs (for $N=200$).\n",
    "\n",
    "The total time of a Verlet step is: 16.5 ms ± 523 µs (for $N=200$)"
   ]
  },
  {
   "cell_type": "code",
   "execution_count": 2,
   "id": "3766846d",
   "metadata": {},
   "outputs": [],
   "source": [
    "# Input parameters\n",
    "N = 200 # number of particles\n",
    "d = 3 # dimensionality of the box\n",
    "L = 3 * N**(1/d) # box length in units of sigma\n",
    "T = 300 # temperature in SI\n",
    "timestep = 1E-4\n",
    "\n",
    "pos = L*np.random.rand(N, d)\n",
    "vel = np.sqrt(sim.KB*T/sim.EPSILON) - 2*np.sqrt(sim.KB*T/sim.EPSILON)*np.random.rand(N, d)"
   ]
  },
  {
   "cell_type": "code",
   "execution_count": 4,
   "id": "1d30e5c5",
   "metadata": {},
   "outputs": [
    {
     "name": "stdout",
     "output_type": "stream",
     "text": [
      "atomic distances\n",
      "3.57 ms ± 157 µs per loop (mean ± std. dev. of 7 runs, 100 loops each)\n"
     ]
    }
   ],
   "source": [
    "print(\"atomic distances\")\n",
    "rel_pos, rel_dist = sim.atomic_distances(pos, L)\n",
    "%timeit sim.atomic_distances(pos, L)"
   ]
  },
  {
   "cell_type": "code",
   "execution_count": 5,
   "id": "b8ccee3e",
   "metadata": {},
   "outputs": [
    {
     "name": "stdout",
     "output_type": "stream",
     "text": [
      "rel_dis np.linalg.norm\n",
      "1.18 ms ± 90.7 µs per loop (mean ± std. dev. of 7 runs, 1000 loops each)\n",
      "rel_dis np.eigsum\n",
      "562 µs ± 65.3 µs per loop (mean ± std. dev. of 7 runs, 1000 loops each)\n"
     ]
    }
   ],
   "source": [
    "print(\"rel_dis np.linalg.norm\")\n",
    "%timeit np.linalg.norm(rel_pos, axis=2)\n",
    "print(\"rel_dis np.eigsum\")\n",
    "%timeit np.sqrt(np.einsum('ijk, ijk->ij', rel_pos, rel_pos, optimize=\"optimal\"))"
   ]
  },
  {
   "cell_type": "code",
   "execution_count": 6,
   "id": "7ae45f7c",
   "metadata": {
    "scrolled": true
   },
   "outputs": [
    {
     "name": "stdout",
     "output_type": "stream",
     "text": [
      "lj_force\n",
      "4.38 ms ± 825 µs per loop (mean ± std. dev. of 7 runs, 100 loops each)\n"
     ]
    }
   ],
   "source": [
    "print(\"lj_force\")\n",
    "total_force = sim.lj_force(rel_pos, rel_dist)\n",
    "%timeit sim.lj_force(rel_pos, rel_dist)"
   ]
  },
  {
   "cell_type": "code",
   "execution_count": 7,
   "id": "c7164328",
   "metadata": {},
   "outputs": [
    {
     "name": "stdout",
     "output_type": "stream",
     "text": [
      "update position\n",
      "5.09 µs ± 526 ns per loop (mean ± std. dev. of 7 runs, 100000 loops each)\n"
     ]
    }
   ],
   "source": [
    "print(\"update position\")\n",
    "pos = pos + vel*timestep + 0.5*timestep**2*total_force\n",
    "%timeit pos + vel*timestep + 0.5*timestep**2*total_force"
   ]
  },
  {
   "cell_type": "code",
   "execution_count": 8,
   "id": "a462fe09",
   "metadata": {},
   "outputs": [
    {
     "name": "stdout",
     "output_type": "stream",
     "text": [
      "atomic_distances\n",
      "4.06 ms ± 771 µs per loop (mean ± std. dev. of 7 runs, 100 loops each)\n"
     ]
    }
   ],
   "source": [
    "print(\"atomic_distances\")\n",
    "rel_pos, rel_dist = sim.atomic_distances(pos, L)\n",
    "%timeit sim.atomic_distances(pos, L)"
   ]
  },
  {
   "cell_type": "code",
   "execution_count": 9,
   "id": "52006651",
   "metadata": {},
   "outputs": [
    {
     "name": "stdout",
     "output_type": "stream",
     "text": [
      "lj_force\n",
      "4.31 ms ± 693 µs per loop (mean ± std. dev. of 7 runs, 100 loops each)\n"
     ]
    }
   ],
   "source": [
    "print(\"lj_force\")\n",
    "total_force_next = sim.lj_force(rel_pos, rel_dist)\n",
    "%timeit sim.lj_force(rel_pos, rel_dist)"
   ]
  },
  {
   "cell_type": "code",
   "execution_count": 10,
   "id": "e6af2491",
   "metadata": {},
   "outputs": [
    {
     "name": "stdout",
     "output_type": "stream",
     "text": [
      "update velocity\n",
      "4.73 µs ± 417 ns per loop (mean ± std. dev. of 7 runs, 100000 loops each)\n"
     ]
    }
   ],
   "source": [
    "print(\"update velocity\")\n",
    "vel = vel + 0.5*(total_force + total_force_next)*timestep\n",
    "%timeit vel + 0.5*(total_force + total_force_next)*timestep"
   ]
  },
  {
   "cell_type": "code",
   "execution_count": 11,
   "id": "87c97159",
   "metadata": {},
   "outputs": [
    {
     "name": "stdout",
     "output_type": "stream",
     "text": [
      "update periodic BC\n",
      "6.02 µs ± 554 ns per loop (mean ± std. dev. of 7 runs, 100000 loops each)\n"
     ]
    }
   ],
   "source": [
    "print(\"update periodic BC\")\n",
    "pos = pos - np.floor(pos/L)*L\n",
    "%timeit pos - np.floor(pos/L)*L"
   ]
  },
  {
   "cell_type": "code",
   "execution_count": 12,
   "id": "c81d83a9",
   "metadata": {},
   "outputs": [
    {
     "name": "stdout",
     "output_type": "stream",
     "text": [
      "TOTAL SIMULATION OF ONE STEP\n",
      "16.5 ms ± 523 µs per loop (mean ± std. dev. of 7 runs, 100 loops each)\n"
     ]
    }
   ],
   "source": [
    "print(\"TOTAL SIMULATION OF ONE STEP\")\n",
    "%timeit sim.simulate_step_verlet(pos, vel, timestep, L)"
   ]
  }
 ],
 "metadata": {
  "kernelspec": {
   "display_name": "Python 3",
   "language": "python",
   "name": "python3"
  },
  "language_info": {
   "codemirror_mode": {
    "name": "ipython",
    "version": 3
   },
   "file_extension": ".py",
   "mimetype": "text/x-python",
   "name": "python",
   "nbconvert_exporter": "python",
   "pygments_lexer": "ipython3",
   "version": "3.7.7"
  }
 },
 "nbformat": 4,
 "nbformat_minor": 5
}
